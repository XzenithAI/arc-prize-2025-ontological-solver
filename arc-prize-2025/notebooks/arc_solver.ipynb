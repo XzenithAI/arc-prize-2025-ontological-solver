{
  "cells": [
    {
      "cell_type": "markdown",
      "metadata": {},
      "source": [
        "# ARC Solver Demonstration\n",
        "\n",
        "This notebook demonstrates the scroll-based solver on sample problems."
      ]
    },
    {
      "cell_type": "code",
      "metadata": {},
      "execution_count": null,
      "outputs": [],
      "source": [
        "from modules.scroll_core import Grid, apply_scroll\n",
        "from modules.patcher_nova import synthesize_scroll, eval_scroll\n",
        "import json, pprint\n",
        "# Load sample problems\n",
        "problems = json.load(open('../vx_scrolls/sample_problems.json'))\n",
        "pprint.pp(problems)"
      ]
    },
    {
      "cell_type": "code",
      "metadata": {},
      "execution_count": null,
      "outputs": [],
      "source": [
        "# Solve each sample problem and display results\n",
        "for name, task in problems.items():\n",
        "    train = task['train']\n",
        "    scroll = synthesize_scroll(train, beam=50, depth=3)\n",
        "    ok, msg = eval_scroll(scroll, train)\n",
        "    print(f'{name}: scroll = {scroll}, exact match: {ok}, msg: {msg}')\n",
        "    for idx, tst in enumerate(task['test']):\n",
        "        out = apply_scroll(scroll, Grid.from_list(tst['input']))\n",
        "        print(f'  test {idx+1} predicted output: {out.to_list()}')"
      ]
    }
  ],
  "metadata": {
    "kernelspec": {
      "display_name": "Python 3",
      "language": "python",
      "name": "python3"
    },
    "language_info": {
      "file_extension": ".py",
      "mimetype": "text/x-python",
      "name": "python",
      "version": "3.10"
    }
  },
  "nbformat": 4,
  "nbformat_minor": 5
}
